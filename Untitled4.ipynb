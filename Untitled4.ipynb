{
 "cells": [
  {
   "cell_type": "code",
   "execution_count": 1,
   "metadata": {},
   "outputs": [
    {
     "name": "stdout",
     "output_type": "stream",
     "text": [
      "enter string - strint\n"
     ]
    }
   ],
   "source": [
    "name = input(\"enter string - \")\n",
    "\n"
   ]
  },
  {
   "cell_type": "code",
   "execution_count": 2,
   "metadata": {},
   "outputs": [],
   "source": [
    "length = len(name)"
   ]
  },
  {
   "cell_type": "code",
   "execution_count": 9,
   "metadata": {},
   "outputs": [
    {
     "data": {
      "text/plain": [
       "6"
      ]
     },
     "execution_count": 9,
     "metadata": {},
     "output_type": "execute_result"
    }
   ],
   "source": [
    "length\n",
    "\n"
   ]
  },
  {
   "cell_type": "code",
   "execution_count": 13,
   "metadata": {},
   "outputs": [],
   "source": [
    "\n",
    "\n",
    "while(length > 0 ) :\n",
    "    print( name[length-1])\n",
    "    length = length - 1\n",
    "    "
   ]
  },
  {
   "cell_type": "code",
   "execution_count": 33,
   "metadata": {},
   "outputs": [
    {
     "name": "stdout",
     "output_type": "stream",
     "text": [
      "enter string - Laneio\n"
     ]
    }
   ],
   "source": [
    "name = input(\"enter string - \")\n",
    "length = len(name)\n",
    "\n",
    "reversed_name = \"\"\n",
    "\n",
    "while( length > 0 ) :\n",
    "    reversed_name = reversed_name + name[length-1]\n",
    "    length = length-1"
   ]
  },
  {
   "cell_type": "code",
   "execution_count": 34,
   "metadata": {},
   "outputs": [
    {
     "data": {
      "text/plain": [
       "'oienaL'"
      ]
     },
     "execution_count": 34,
     "metadata": {},
     "output_type": "execute_result"
    }
   ],
   "source": [
    "reversed_name\n"
   ]
  },
  {
   "cell_type": "code",
   "execution_count": 41,
   "metadata": {},
   "outputs": [
    {
     "name": "stdout",
     "output_type": "stream",
     "text": [
      "enter string - is even and greater than\n",
      "Is\n",
      "Even\n",
      "And\n",
      "Greater\n",
      "Than\n"
     ]
    }
   ],
   "source": [
    "name = input(\"enter string - \")\n",
    "\n",
    "name = name.split()\n",
    "\n",
    "for word in name :\n",
    "    print(word.title())\n",
    "\n"
   ]
  },
  {
   "cell_type": "code",
   "execution_count": 47,
   "metadata": {},
   "outputs": [
    {
     "name": "stdout",
     "output_type": "stream",
     "text": [
      " enter string - is even and greater than\n"
     ]
    }
   ],
   "source": [
    "name = input(\" enter string - \")\n",
    "\n",
    "name = name.upper()\n"
   ]
  },
  {
   "cell_type": "code",
   "execution_count": 48,
   "metadata": {},
   "outputs": [
    {
     "data": {
      "text/plain": [
       "'IS EVEN AND GREATER THAN'"
      ]
     },
     "execution_count": 48,
     "metadata": {},
     "output_type": "execute_result"
    }
   ],
   "source": [
    "name"
   ]
  },
  {
   "cell_type": "code",
   "execution_count": 53,
   "metadata": {},
   "outputs": [
    {
     "name": "stdout",
     "output_type": "stream",
     "text": [
      " enter string - cloudy\n"
     ]
    }
   ],
   "source": [
    "name = input(\" enter string - \")\n",
    "\n",
    "name = name.isalpha()"
   ]
  },
  {
   "cell_type": "code",
   "execution_count": 54,
   "metadata": {},
   "outputs": [
    {
     "data": {
      "text/plain": [
       "True"
      ]
     },
     "execution_count": 54,
     "metadata": {},
     "output_type": "execute_result"
    }
   ],
   "source": [
    "name"
   ]
  },
  {
   "cell_type": "code",
   "execution_count": 19,
   "metadata": {},
   "outputs": [
    {
     "name": "stdout",
     "output_type": "stream",
     "text": [
      "77\n",
      "1 Weird\n"
     ]
    }
   ],
   "source": [
    "import math\n",
    "import os\n",
    "import random\n",
    "import re\n",
    "import sys\n",
    "\n",
    "\n",
    "\n",
    "if __name__ == '__main__':\n",
    "    n = int(input().strip())\n",
    "\n",
    "# If n is odd, print Weird/\n",
    "    if n in range(101) :\n",
    "        if n %2 != 0 :\n",
    "            print(\"1 Weird\")\n",
    "\n",
    "#     If n is even and in the inclusive range of 2 to 5, print Not Weird\n",
    "    if(n in range(2, 6) ) :  \n",
    "        if n %2 == 0 :\n",
    "            print(\"2 Not Weird\")\n",
    "     \n",
    "#     If n is even and in the inclusive range of 6 to 20, print Weird\n",
    "    if(n in range(5, 21)) :     # needs to be between5 and 21\n",
    "        if n %2 == 0 :\n",
    "            print(\"3 Weird\")\n",
    "        \n",
    "        \n",
    "#     If n is even and greater than 20, print Not Weird    \n",
    "    if(n in range(20, 101)) :\n",
    "        if n %2 == 0 :\n",
    "            print(\"4 Not Weird\")\n",
    "        "
   ]
  },
  {
   "cell_type": "code",
   "execution_count": 21,
   "metadata": {},
   "outputs": [
    {
     "name": "stdout",
     "output_type": "stream",
     "text": [
      "20\n",
      "3 Weird\n",
      "4 Not Weird\n"
     ]
    }
   ],
   "source": [
    "if __name__ == '__main__':\n",
    "    n = int(input().strip())\n",
    "\n",
    "    if n in range(101) :\n",
    "        if n %2 != 0 :\n",
    "            print(\"1 Weird\")\n",
    "\n",
    "    if(n in range(2, 6) ) :  \n",
    "        if n %2 == 0 :\n",
    "            print(\"2 Not Weird\")\n",
    "     \n",
    "    if(n in range(5, 21)) :\n",
    "        if n %2 == 0 :\n",
    "            print(\"3 Weird\")\n",
    "\n",
    "    if(n in range(21, 101)) :\n",
    "        if n %2 == 0 :\n",
    "            print(\"4 Not Weird\")\n",
    "        "
   ]
  },
  {
   "cell_type": "code",
   "execution_count": null,
   "metadata": {},
   "outputs": [],
   "source": []
  },
  {
   "cell_type": "code",
   "execution_count": null,
   "metadata": {},
   "outputs": [],
   "source": []
  }
 ],
 "metadata": {
  "kernelspec": {
   "display_name": "Python 3",
   "language": "python",
   "name": "python3"
  },
  "language_info": {
   "codemirror_mode": {
    "name": "ipython",
    "version": 3
   },
   "file_extension": ".py",
   "mimetype": "text/x-python",
   "name": "python",
   "nbconvert_exporter": "python",
   "pygments_lexer": "ipython3",
   "version": "3.8.1"
  }
 },
 "nbformat": 4,
 "nbformat_minor": 4
}
