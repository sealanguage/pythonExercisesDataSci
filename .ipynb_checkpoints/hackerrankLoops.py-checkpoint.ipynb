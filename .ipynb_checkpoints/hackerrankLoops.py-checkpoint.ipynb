{
 "cells": [
  {
   "cell_type": "code",
   "execution_count": null,
   "metadata": {},
   "outputs": [],
   "source": []
  },
  {
   "cell_type": "raw",
   "metadata": {},
   "source": []
  },
  {
   "cell_type": "code",
   "execution_count": 22,
   "metadata": {},
   "outputs": [
    {
     "name": "stdout",
     "output_type": "stream",
     "text": [
      "range(1, 21)13\n",
      "1\n",
      "4\n",
      "9\n",
      "16\n",
      "25\n",
      "36\n"
     ]
    }
   ],
   "source": [
    "iterator = int(input(range(1, 21)))\n",
    "odd_value = 0\n",
    "output = 0\n",
    "number = 0\n",
    "    \n",
    "\n",
    "for odd_value in range(iterator) :\n",
    "    if odd_value % 2 != 0 :\n",
    "        output = odd_value + output\n",
    "        print( output )\n",
    "\n",
    "    "
   ]
  },
  {
   "cell_type": "code",
   "execution_count": 30,
   "metadata": {},
   "outputs": [
    {
     "name": "stdout",
     "output_type": "stream",
     "text": [
      "range(1, 21)5\n"
     ]
    }
   ],
   "source": [
    "n = int(input(range(1, 21)))\n",
    "odd_value = 0\n",
    "output = 0\n",
    "counter = 0\n",
    "iterator = 0\n",
    "\n",
    "for iterator in range(n) :\n",
    "    if odd_value % 2 != 0 :\n",
    "        output = odd_value + output\n",
    "        odd_value + 1\n",
    "        print( output )"
   ]
  },
  {
   "cell_type": "code",
   "execution_count": 4,
   "metadata": {},
   "outputs": [
    {
     "name": "stdout",
     "output_type": "stream",
     "text": [
      "range(1, 21)13\n"
     ]
    }
   ],
   "source": [
    "n = int(input(range(1, 21)))\n",
    "odd_value = 0\n",
    "output = 0\n",
    "iterator = 0\n",
    "number = iterator\n",
    "    \n",
    "\n",
    "for iterator in range(n) :\n",
    "    if odd_value % 2 != 0 :\n",
    "        output = odd_value + output\n",
    "        print( output )\n"
   ]
  },
  {
   "cell_type": "code",
   "execution_count": 19,
   "metadata": {},
   "outputs": [
    {
     "name": "stdout",
     "output_type": "stream",
     "text": [
      "range(1, 21)13\n"
     ]
    }
   ],
   "source": [
    "iterator = int(input(range(1, 21)))\n",
    "odd_value = 0\n",
    "number = 0\n",
    "output = 0\n",
    "\n",
    "for output in range(iterator) :\n",
    "    if odd_value % 2 != 0 :\n",
    "        output = odd_value + number\n",
    "        print( output )\n",
    "            "
   ]
  },
  {
   "cell_type": "code",
   "execution_count": 21,
   "metadata": {},
   "outputs": [
    {
     "name": "stdout",
     "output_type": "stream",
     "text": [
      "range(1, 21)13\n"
     ]
    }
   ],
   "source": [
    "iterator = int(input(range(1, 21)))\n",
    "odd_value = 0\n",
    "number = 0\n",
    "output = 0\n",
    "               \n",
    "for number in range (iterator) :\n",
    "    if odd_value %2 != 0 :\n",
    "        odd_value = odd_value +2\n",
    "        output = odd_value + output\n",
    "#         number = odd_value + number\n",
    "        print( output )\n",
    "        "
   ]
  },
  {
   "cell_type": "code",
   "execution_count": 42,
   "metadata": {},
   "outputs": [
    {
     "name": "stdout",
     "output_type": "stream",
     "text": [
      "range(1, 21)13\n",
      "1\n",
      "2\n",
      "3\n",
      "4\n",
      "5\n",
      "6\n",
      "7\n",
      "8\n",
      "9\n",
      "10\n",
      "11\n",
      "12\n",
      "13\n"
     ]
    }
   ],
   "source": [
    "n = int(input(range(1, 21)))\n",
    "odd_value = 1\n",
    "count = 0\n",
    "output = 0\n",
    "number = 0\n",
    "i = 0\n",
    "\n",
    "for output in range(n) :\n",
    "    for count in range(odd_value) :\n",
    "        output = odd_value + output\n",
    "        print(output)\n",
    "        count = 1\n",
    "    \n",
    "# for number in range(iterator) :\n",
    "#     for i in range(count) :\n",
    "#         if odd_value % 2 != 0 :\n",
    "#             output = odd_value + output\n",
    "#             print( output )\n",
    "#             count + 1\n"
   ]
  },
  {
   "cell_type": "code",
   "execution_count": 37,
   "metadata": {},
   "outputs": [
    {
     "name": "stdout",
     "output_type": "stream",
     "text": [
      " \n",
      "1  \n",
      "2 2  \n",
      "3 3 3  \n",
      "4 4 4 4  \n",
      "5 5 5 5 5  \n",
      "6 6 6 6 6 6  \n",
      "7 7 7 7 7 7 7  \n",
      "8 8 8 8 8 8 8 8  \n",
      "9 9 9 9 9 9 9 9 9  \n",
      "10 10 10 10 10 10 10 10 10 10 "
     ]
    }
   ],
   "source": [
    "for number in range(1, 11) :\n",
    "    print(\" \")\n",
    "    for count in range(0, number) :\n",
    "        print(number, end = \" \")"
   ]
  },
  {
   "cell_type": "code",
   "execution_count": null,
   "metadata": {},
   "outputs": [],
   "source": [
    "13\n"
   ]
  }
 ],
 "metadata": {
  "kernelspec": {
   "display_name": "Python 3",
   "language": "python",
   "name": "python3"
  },
  "language_info": {
   "codemirror_mode": {
    "name": "ipython",
    "version": 3
   },
   "file_extension": ".py",
   "mimetype": "text/x-python",
   "name": "python",
   "nbconvert_exporter": "python",
   "pygments_lexer": "ipython3",
   "version": "3.8.1"
  }
 },
 "nbformat": 4,
 "nbformat_minor": 4
}
