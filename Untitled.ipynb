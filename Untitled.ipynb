{
 "cells": [
  {
   "cell_type": "code",
   "execution_count": 1,
   "metadata": {},
   "outputs": [
    {
     "name": "stdout",
     "output_type": "stream",
     "text": [
      "1990\n"
     ]
    }
   ],
   "source": [
    "year = int(input())\n",
    "\n",
    "\n",
    "def is_leap(year):\n",
    "    leap = False\n",
    "\n",
    "    if (year %4 == 0) == True :\n",
    "#         if year %100 != 0 :\n",
    "        return False\n",
    "\n",
    "    # Write your logic here\n",
    "    \n",
    "    return leap\n",
    "\n"
   ]
  },
  {
   "cell_type": "code",
   "execution_count": 2,
   "metadata": {},
   "outputs": [
    {
     "ename": "TypeError",
     "evalue": "is_leap() missing 1 required positional argument: 'year'",
     "output_type": "error",
     "traceback": [
      "\u001b[0;31m---------------------------------------------------------------------------\u001b[0m",
      "\u001b[0;31mTypeError\u001b[0m                                 Traceback (most recent call last)",
      "\u001b[0;32m<ipython-input-2-0c59930473ee>\u001b[0m in \u001b[0;36m<module>\u001b[0;34m\u001b[0m\n\u001b[0;32m----> 1\u001b[0;31m \u001b[0mis_leap\u001b[0m\u001b[0;34m(\u001b[0m\u001b[0;34m)\u001b[0m\u001b[0;34m\u001b[0m\u001b[0;34m\u001b[0m\u001b[0m\n\u001b[0m",
      "\u001b[0;31mTypeError\u001b[0m: is_leap() missing 1 required positional argument: 'year'"
     ]
    }
   ],
   "source": [
    "is_leap()\n"
   ]
  },
  {
   "cell_type": "code",
   "execution_count": 4,
   "metadata": {},
   "outputs": [
    {
     "name": "stdout",
     "output_type": "stream",
     "text": [
      "Math 3.5\n",
      "English 3.7\n",
      "Chemestry 2.4\n",
      "Physics 3.2\n"
     ]
    }
   ],
   "source": [
    "grades = {\n",
    "    \"Math\": 3.5,\n",
    "    \"English\": 3.7,\n",
    "    \"Chemestry\": 2.4,\n",
    "    \"Physics\": 3.2\n",
    "}\n",
    "\n",
    "for key in grades :\n",
    "    print(key, grades[key])"
   ]
  },
  {
   "cell_type": "code",
   "execution_count": 10,
   "metadata": {},
   "outputs": [
    {
     "name": "stdout",
     "output_type": "stream",
     "text": [
      "[102, 103, 104, 105]\n"
     ]
    }
   ],
   "source": [
    "#  dictionary of ids and grades of students in a particlular subject\n",
    "\n",
    "grades = { 102 : 4.0,\n",
    "         103: 2.4,\n",
    "         104: 3.1,\n",
    "         105: 3.5}\n",
    "\n",
    "# applying the sorted function creates a list of the keys\n",
    "print(sorted(grades.keys()))\n",
    "\n",
    "type(sorted(grades.keys()))"
   ]
  },
  {
   "cell_type": "code",
   "execution_count": 12,
   "metadata": {},
   "outputs": [
    {
     "data": {
      "text/plain": [
       "list"
      ]
     },
     "execution_count": 12,
     "metadata": {},
     "output_type": "execute_result"
    }
   ],
   "source": [
    "type(sorted(grades.keys()))"
   ]
  },
  {
   "cell_type": "code",
   "execution_count": null,
   "metadata": {},
   "outputs": [],
   "source": [
    "#   1 2 3 4 -8 -10\n",
    "\n",
    "\n",
    "import numpy\n",
    "\n",
    "def arrays(arr):\n",
    "    # complete this function\n",
    "    # use numpy.array\n",
    "\n",
    "arr = input().strip().split(' ')\n",
    "result = arrays(arr)\n",
    "print(result)\n"
   ]
  },
  {
   "cell_type": "code",
   "execution_count": 19,
   "metadata": {},
   "outputs": [
    {
     "name": "stdout",
     "output_type": "stream",
     "text": [
      "Type a sentence:  applying the sorted function creates a list of the keys\n",
      "{'a': ['a', 'a', 'a'], 'i': ['i', 'i', 'i'], 'e': ['e', 'e', 'e', 'e', 'e', 'e'], 'o': ['o', 'o', 'o'], 'u': ['u']}\n"
     ]
    }
   ],
   "source": [
    "#   applying the sorted function creates a list of the keys\n",
    "\n",
    "words = input( \"Type a sentence:  \" )\n",
    "\n",
    "vowels = [\"a\", \"e\", \"i\", \"o\", \"u\"]   #  this is a list of vowels\n",
    "vowels_list = {}  #  creating a new dictionary\n",
    "\n",
    "\n",
    "for word in words :\n",
    "    for letter in word :\n",
    "        if letter in vowels :\n",
    "            if vowels_list.get(letter) == None :\n",
    "                vowels_list[letter] = [word]\n",
    "            else :\n",
    "                vowels_list.get(letter).append(word)\n",
    "                \n",
    "print(vowels_list)                \n",
    "\n"
   ]
  },
  {
   "cell_type": "code",
   "execution_count": null,
   "metadata": {},
   "outputs": [],
   "source": []
  }
 ],
 "metadata": {
  "kernelspec": {
   "display_name": "Python 3",
   "language": "python",
   "name": "python3"
  },
  "language_info": {
   "codemirror_mode": {
    "name": "ipython",
    "version": 3
   },
   "file_extension": ".py",
   "mimetype": "text/x-python",
   "name": "python",
   "nbconvert_exporter": "python",
   "pygments_lexer": "ipython3",
   "version": "3.8.1"
  }
 },
 "nbformat": 4,
 "nbformat_minor": 4
}
