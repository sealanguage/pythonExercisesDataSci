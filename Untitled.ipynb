{
 "cells": [
  {
   "cell_type": "code",
   "execution_count": 1,
   "metadata": {},
   "outputs": [
    {
     "name": "stdout",
     "output_type": "stream",
     "text": [
      "1990\n"
     ]
    }
   ],
   "source": [
    "year = int(input())\n",
    "\n",
    "\n",
    "def is_leap(year):\n",
    "    leap = False\n",
    "\n",
    "    if (year %4 == 0) == True :\n",
    "#         if year %100 != 0 :\n",
    "        return False\n",
    "\n",
    "    # Write your logic here\n",
    "    \n",
    "    return leap\n",
    "\n"
   ]
  },
  {
   "cell_type": "code",
   "execution_count": 2,
   "metadata": {},
   "outputs": [
    {
     "ename": "TypeError",
     "evalue": "is_leap() missing 1 required positional argument: 'year'",
     "output_type": "error",
     "traceback": [
      "\u001b[0;31m---------------------------------------------------------------------------\u001b[0m",
      "\u001b[0;31mTypeError\u001b[0m                                 Traceback (most recent call last)",
      "\u001b[0;32m<ipython-input-2-0c59930473ee>\u001b[0m in \u001b[0;36m<module>\u001b[0;34m\u001b[0m\n\u001b[0;32m----> 1\u001b[0;31m \u001b[0mis_leap\u001b[0m\u001b[0;34m(\u001b[0m\u001b[0;34m)\u001b[0m\u001b[0;34m\u001b[0m\u001b[0;34m\u001b[0m\u001b[0m\n\u001b[0m",
      "\u001b[0;31mTypeError\u001b[0m: is_leap() missing 1 required positional argument: 'year'"
     ]
    }
   ],
   "source": [
    "is_leap()\n"
   ]
  },
  {
   "cell_type": "code",
   "execution_count": 4,
   "metadata": {},
   "outputs": [
    {
     "name": "stdout",
     "output_type": "stream",
     "text": [
      "Math 3.5\n",
      "English 3.7\n",
      "Chemestry 2.4\n",
      "Physics 3.2\n"
     ]
    }
   ],
   "source": [
    "grades = {\n",
    "    \"Math\": 3.5,\n",
    "    \"English\": 3.7,\n",
    "    \"Chemestry\": 2.4,\n",
    "    \"Physics\": 3.2\n",
    "}\n",
    "\n",
    "for key in grades :\n",
    "    print(key, grades[key])"
   ]
  },
  {
   "cell_type": "code",
   "execution_count": 10,
   "metadata": {},
   "outputs": [
    {
     "name": "stdout",
     "output_type": "stream",
     "text": [
      "[102, 103, 104, 105]\n"
     ]
    }
   ],
   "source": [
    "#  dictionary of ids and grades of students in a particlular subject\n",
    "\n",
    "grades = { 102 : 4.0,\n",
    "         103: 2.4,\n",
    "         104: 3.1,\n",
    "         105: 3.5}\n",
    "\n",
    "# applying the sorted function creates a list of the keys\n",
    "print(sorted(grades.keys()))"
   ]
  },
  {
   "cell_type": "code",
   "execution_count": 8,
   "metadata": {},
   "outputs": [
    {
     "ename": "SyntaxError",
     "evalue": "unexpected EOF while parsing (<ipython-input-8-f13846806586>, line 1)",
     "output_type": "error",
     "traceback": [
      "\u001b[0;36m  File \u001b[0;32m\"<ipython-input-8-f13846806586>\"\u001b[0;36m, line \u001b[0;32m1\u001b[0m\n\u001b[0;31m    type(sorted(grades.keys())\u001b[0m\n\u001b[0m                              ^\u001b[0m\n\u001b[0;31mSyntaxError\u001b[0m\u001b[0;31m:\u001b[0m unexpected EOF while parsing\n"
     ]
    }
   ],
   "source": [
    "type(sorted(grades.keys())"
   ]
  },
  {
   "cell_type": "code",
   "execution_count": null,
   "metadata": {},
   "outputs": [],
   "source": []
  }
 ],
 "metadata": {
  "kernelspec": {
   "display_name": "Python 3",
   "language": "python",
   "name": "python3"
  },
  "language_info": {
   "codemirror_mode": {
    "name": "ipython",
    "version": 3
   },
   "file_extension": ".py",
   "mimetype": "text/x-python",
   "name": "python",
   "nbconvert_exporter": "python",
   "pygments_lexer": "ipython3",
   "version": "3.8.1"
  }
 },
 "nbformat": 4,
 "nbformat_minor": 4
}
