{
 "cells": [
  {
   "cell_type": "code",
   "execution_count": 1,
   "metadata": {},
   "outputs": [
    {
     "name": "stdout",
     "output_type": "stream",
     "text": [
      "Henry cat is 2 years old\n"
     ]
    }
   ],
   "source": [
    "text = \"Henry cat is {} years old\"\n",
    "text_f = text.format(2)\n",
    "\n",
    "print(text_f)"
   ]
  },
  {
   "cell_type": "code",
   "execution_count": 3,
   "metadata": {},
   "outputs": [
    {
     "data": {
      "text/plain": [
       "'CareerDevs is a technology company'"
      ]
     },
     "execution_count": 3,
     "metadata": {},
     "output_type": "execute_result"
    }
   ],
   "source": [
    "\"{} is a {} company\".format(\"CareerDevs\", \"technology\")"
   ]
  },
  {
   "cell_type": "code",
   "execution_count": 4,
   "metadata": {},
   "outputs": [
    {
     "data": {
      "text/plain": [
       "'technology is a CareerDevs company'"
      ]
     },
     "execution_count": 4,
     "metadata": {},
     "output_type": "execute_result"
    }
   ],
   "source": [
    "\"{1} is a {0} company\".format(\"CareerDevs\", \"technology\")"
   ]
  },
  {
   "cell_type": "code",
   "execution_count": 8,
   "metadata": {},
   "outputs": [
    {
     "data": {
      "text/plain": [
       "'CareerDevs is a technology company'"
      ]
     },
     "execution_count": 8,
     "metadata": {},
     "output_type": "execute_result"
    }
   ],
   "source": [
    "\"{company_name} is a {type} company\".format(type=\"technology\", company_name=\"CareerDevs\")"
   ]
  },
  {
   "cell_type": "code",
   "execution_count": 10,
   "metadata": {},
   "outputs": [
    {
     "name": "stdout",
     "output_type": "stream",
     "text": [
      "india      - 1367097341\n",
      "china      - 1419518156\n",
      "US         -  328830848\n"
     ]
    }
   ],
   "source": [
    "population = {\"india\"   :1367097341,\n",
    "              \"china\"   :1419518156,\n",
    "              \"US\"      :328830848}\n",
    "\n",
    "for key in population:\n",
    "    print(\"{:<10} - {:>10}\".format(key, population[key]))"
   ]
  },
  {
   "cell_type": "code",
   "execution_count": 11,
   "metadata": {},
   "outputs": [
    {
     "name": "stdout",
     "output_type": "stream",
     "text": [
      "The population of India is 1,367,097,934\n"
     ]
    }
   ],
   "source": [
    "print(\"The population of India is {:,}\".format(1367097934))"
   ]
  },
  {
   "cell_type": "code",
   "execution_count": 12,
   "metadata": {},
   "outputs": [
    {
     "name": "stdout",
     "output_type": "stream",
     "text": [
      "something went wrong\n"
     ]
    }
   ],
   "source": [
    "try:\n",
    "    1/0\n",
    "except:\n",
    "    print(\"something went wrong\")"
   ]
  },
  {
   "cell_type": "code",
   "execution_count": 14,
   "metadata": {},
   "outputs": [
    {
     "name": "stdout",
     "output_type": "stream",
     "text": [
      "cannot add integer to string\n"
     ]
    }
   ],
   "source": [
    "age = 21\n",
    "try:\n",
    "    age = age + \"1\"\n",
    "    age = age/0\n",
    "except TypeError:\n",
    "    print(\"cannot add integer to string\")\n",
    "except ZeroDivisionError:\n",
    "    print(\"divide by zero error\")\n",
    "except KeyError:\n",
    "    print(\"dictionary key error\")"
   ]
  },
  {
   "cell_type": "code",
   "execution_count": 15,
   "metadata": {},
   "outputs": [
    {
     "name": "stdout",
     "output_type": "stream",
     "text": [
      "division by zero\n"
     ]
    }
   ],
   "source": [
    "age = 21\n",
    "try:\n",
    "#     age = age + \"1\"\n",
    "    age = age/0\n",
    "except Exception as e:\n",
    "    print(e)"
   ]
  },
  {
   "cell_type": "code",
   "execution_count": null,
   "metadata": {},
   "outputs": [],
   "source": []
  }
 ],
 "metadata": {
  "kernelspec": {
   "display_name": "Python 3",
   "language": "python",
   "name": "python3"
  },
  "language_info": {
   "codemirror_mode": {
    "name": "ipython",
    "version": 3
   },
   "file_extension": ".py",
   "mimetype": "text/x-python",
   "name": "python",
   "nbconvert_exporter": "python",
   "pygments_lexer": "ipython3",
   "version": "3.8.1"
  }
 },
 "nbformat": 4,
 "nbformat_minor": 4
}
