{
 "cells": [
  {
   "cell_type": "code",
   "execution_count": null,
   "metadata": {},
   "outputs": [],
   "source": []
  },
  {
   "cell_type": "raw",
   "metadata": {},
   "source": []
  },
  {
   "cell_type": "code",
   "execution_count": 1,
   "metadata": {},
   "outputs": [
    {
     "name": "stdout",
     "output_type": "stream",
     "text": [
      "range(1, 21)13\n",
      "1\n",
      "4\n",
      "9\n",
      "16\n",
      "25\n",
      "36\n"
     ]
    }
   ],
   "source": [
    "iterator = int(input(range(1, 21)))\n",
    "odd_value = 0\n",
    "output = 0\n",
    "number = iterator\n",
    "    \n",
    "\n",
    "for odd_value in range(iterator) :\n",
    "    if odd_value % 2 != 0 :\n",
    "        output = odd_value + output\n",
    "        print( output )\n",
    "\n",
    "    "
   ]
  },
  {
   "cell_type": "code",
   "execution_count": 30,
   "metadata": {},
   "outputs": [
    {
     "name": "stdout",
     "output_type": "stream",
     "text": [
      "range(1, 21)5\n"
     ]
    }
   ],
   "source": [
    "n = int(input(range(1, 21)))\n",
    "odd_value = 0\n",
    "output = 0\n",
    "counter = 0\n",
    "iterator = 0\n",
    "\n",
    "for iterator in range(n) :\n",
    "    if odd_value % 2 != 0 :\n",
    "        output = odd_value + output\n",
    "        odd_value + 1\n",
    "        print( output )"
   ]
  },
  {
   "cell_type": "code",
   "execution_count": 4,
   "metadata": {},
   "outputs": [
    {
     "name": "stdout",
     "output_type": "stream",
     "text": [
      "range(1, 21)13\n"
     ]
    }
   ],
   "source": [
    "n = int(input(range(1, 21)))\n",
    "odd_value = 0\n",
    "output = 0\n",
    "iterator = 0\n",
    "number = iterator\n",
    "    \n",
    "\n",
    "for iterator in range(n) :\n",
    "    if odd_value % 2 != 0 :\n",
    "        output = odd_value + output\n",
    "        print( output )\n"
   ]
  },
  {
   "cell_type": "code",
   "execution_count": null,
   "metadata": {},
   "outputs": [],
   "source": [
    "iterator = int(input(range(1, 21)))\n",
    "odd_value = 0\n",
    "output = 0\n",
    "number = iterator\n",
    "    \n",
    "\n",
    "for odd_value in range(iterator) :\n",
    "    for \n",
    "    if odd_value % 2 != 0 :\n",
    "        output = odd_value + output\n",
    "        print( output )"
   ]
  }
 ],
 "metadata": {
  "kernelspec": {
   "display_name": "Python 3",
   "language": "python",
   "name": "python3"
  },
  "language_info": {
   "codemirror_mode": {
    "name": "ipython",
    "version": 3
   },
   "file_extension": ".py",
   "mimetype": "text/x-python",
   "name": "python",
   "nbconvert_exporter": "python",
   "pygments_lexer": "ipython3",
   "version": "3.8.1"
  }
 },
 "nbformat": 4,
 "nbformat_minor": 4
}
