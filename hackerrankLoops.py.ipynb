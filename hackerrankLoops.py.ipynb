{
 "cells": [
  {
   "cell_type": "code",
   "execution_count": null,
   "metadata": {},
   "outputs": [],
   "source": []
  },
  {
   "cell_type": "raw",
   "metadata": {},
   "source": []
  },
  {
   "cell_type": "code",
   "execution_count": 112,
   "metadata": {},
   "outputs": [
    {
     "name": "stdout",
     "output_type": "stream",
     "text": [
      "range(1, 21)5\n",
      "1\n",
      "4\n"
     ]
    }
   ],
   "source": [
    "n = int(input(range(1, 21)))\n",
    "odd_value = 0\n",
    "output = 0\n",
    "number = 0\n",
    "    \n",
    "\n",
    "for odd_value in range(n) :\n",
    "    if odd_value % 2 != 0 :\n",
    "        output = odd_value + output\n",
    "        print( output )\n",
    "\n",
    "    "
   ]
  },
  {
   "cell_type": "code",
   "execution_count": 30,
   "metadata": {},
   "outputs": [
    {
     "name": "stdout",
     "output_type": "stream",
     "text": [
      "range(1, 21)5\n"
     ]
    }
   ],
   "source": [
    "n = int(input(range(1, 21)))\n",
    "odd_value = 0\n",
    "output = 0\n",
    "counter = 0\n",
    "iterator = 0\n",
    "\n",
    "for iterator in range(n) :\n",
    "    if odd_value % 2 != 0 :\n",
    "        output = odd_value + output\n",
    "        odd_value + 1\n",
    "        print( output )"
   ]
  },
  {
   "cell_type": "code",
   "execution_count": 4,
   "metadata": {},
   "outputs": [
    {
     "name": "stdout",
     "output_type": "stream",
     "text": [
      "range(1, 21)13\n"
     ]
    }
   ],
   "source": [
    "n = int(input(range(1, 21)))\n",
    "odd_value = 0\n",
    "output = 0\n",
    "iterator = 0\n",
    "number = iterator\n",
    "    \n",
    "\n",
    "for iterator in range(n) :\n",
    "    if odd_value % 2 != 0 :\n",
    "        output = odd_value + output\n",
    "        print( output )\n"
   ]
  },
  {
   "cell_type": "code",
   "execution_count": 19,
   "metadata": {},
   "outputs": [
    {
     "name": "stdout",
     "output_type": "stream",
     "text": [
      "range(1, 21)13\n"
     ]
    }
   ],
   "source": [
    "iterator = int(input(range(1, 21)))\n",
    "odd_value = 0\n",
    "number = 0\n",
    "output = 0\n",
    "\n",
    "for output in range(iterator) :\n",
    "    if odd_value % 2 != 0 :\n",
    "        output = odd_value + number\n",
    "        print( output )\n",
    "            "
   ]
  },
  {
   "cell_type": "code",
   "execution_count": 21,
   "metadata": {},
   "outputs": [
    {
     "name": "stdout",
     "output_type": "stream",
     "text": [
      "range(1, 21)13\n"
     ]
    }
   ],
   "source": [
    "iterator = int(input(range(1, 21)))\n",
    "odd_value = 0\n",
    "number = 0\n",
    "output = 0\n",
    "               \n",
    "for number in range (iterator) :\n",
    "    if odd_value %2 != 0 :\n",
    "        odd_value = odd_value +2\n",
    "        output = odd_value + output\n",
    "#         number = odd_value + number\n",
    "        print( output )\n",
    "        "
   ]
  },
  {
   "cell_type": "code",
   "execution_count": 66,
   "metadata": {},
   "outputs": [
    {
     "name": "stdout",
     "output_type": "stream",
     "text": [
      "range(1, 21)3\n"
     ]
    }
   ],
   "source": [
    "n = int(input(range(1, 21)))\n",
    "odd_value = 1\n",
    "count = 0\n",
    "output = 0\n",
    "number = 0\n",
    "i = 1\n",
    "\n",
    "for i in range(n) :\n",
    "    for count in range(0, number) :\n",
    "        if odd_value %2 != 0 :\n",
    "            output = odd_value + i\n",
    "            print(\"output is \", output)\n",
    "            print(\"odd_value is \", odd_value)\n",
    "            print(\" i is  \", i)\n",
    "#         print(count)\n",
    "#         odd_value = 2\n",
    "#         count = 1\n",
    "    \n",
    "# for number in range(iterator) :\n",
    "#     for i in range(count) :\n",
    "#         if odd_value % 2 != 0 :\n",
    "#             output = odd_value + output\n",
    "#             print( output )\n",
    "#             count + 1\n"
   ]
  },
  {
   "cell_type": "code",
   "execution_count": 46,
   "metadata": {},
   "outputs": [
    {
     "name": "stdout",
     "output_type": "stream",
     "text": [
      " \n",
      "1  \n",
      "2 2  \n",
      "3 3 3  \n",
      "4 4 4 4  \n",
      "5 5 5 5 5  \n",
      "6 6 6 6 6 6  \n",
      "7 7 7 7 7 7 7  \n",
      "8 8 8 8 8 8 8 8  \n",
      "9 9 9 9 9 9 9 9 9  \n",
      "10 10 10 10 10 10 10 10 10 10 "
     ]
    }
   ],
   "source": [
    "for number in range(1, 11) :\n",
    "    print(\" \")\n",
    "    for count in range(0, number) :\n",
    "        print(number, end = \" \")"
   ]
  },
  {
   "cell_type": "code",
   "execution_count": 92,
   "metadata": {},
   "outputs": [
    {
     "name": "stdout",
     "output_type": "stream",
     "text": [
      "range(1, 21)5\n",
      "i is  0\n",
      "i is  1\n",
      "i is  2\n",
      "odd_value  1\n",
      "number is  5\n",
      "output is  6\n",
      "i is  3\n",
      "odd_value  1\n",
      "number is  5\n",
      "output is  6\n",
      "i is  4\n",
      "odd_value  1\n",
      "number is  5\n",
      "output is  6\n",
      "odd_value  3\n",
      "number is  5\n",
      "output is  8\n"
     ]
    }
   ],
   "source": [
    "n = int(input(range(1, 21)))\n",
    "odd_value = 1\n",
    "count = 0\n",
    "output = 0\n",
    "number = n\n",
    "i = 1\n",
    "\n",
    "for i in range(n) :\n",
    "    print(\"i is \", i)\n",
    "    for odd_value in range(i) :\n",
    "        if odd_value %2 != 0 :\n",
    "            print(\"odd_value \", odd_value)\n",
    "            print(\"number is \", number)\n",
    "            output = odd_value + number\n",
    "            print(\"output is \", output)\n"
   ]
  },
  {
   "cell_type": "code",
   "execution_count": 94,
   "metadata": {},
   "outputs": [
    {
     "name": "stdout",
     "output_type": "stream",
     "text": [
      "range(1, 21)5\n"
     ]
    }
   ],
   "source": [
    "iterator = int(input(range(1, 21)))\n",
    "odd_value = 0\n",
    "output = 0\n",
    "number = 0\n",
    "i = 0\n",
    "    \n",
    "\n",
    "for i in range(iterator) :\n",
    "    while odd_value % 2 != 0 :\n",
    "        output = odd_value + output\n",
    "        print( output )\n"
   ]
  },
  {
   "cell_type": "code",
   "execution_count": 104,
   "metadata": {},
   "outputs": [
    {
     "name": "stdout",
     "output_type": "stream",
     "text": [
      "range(1, 21)5\n",
      "the iterator is  0\n",
      "the iterator is  1\n",
      "the iterator is  2\n",
      "the iterator is  3\n",
      "the iterator is  4\n"
     ]
    }
   ],
   "source": [
    "n = int(input(range(1, 21)))\n",
    "odd_value = 0\n",
    "output = 0\n",
    "number = 0\n",
    "i = 0\n",
    "\n",
    "for i in range(0, n) :\n",
    "    print(\"the iterator is \", i) "
   ]
  },
  {
   "cell_type": "code",
   "execution_count": 98,
   "metadata": {},
   "outputs": [
    {
     "name": "stdout",
     "output_type": "stream",
     "text": [
      "1\n",
      "3\n",
      "5\n",
      "7\n"
     ]
    }
   ],
   "source": [
    "for x in range(1, 9):\n",
    "    if x %2 != 0 :\n",
    "        print(x) "
   ]
  },
  {
   "cell_type": "code",
   "execution_count": 109,
   "metadata": {},
   "outputs": [
    {
     "name": "stdout",
     "output_type": "stream",
     "text": [
      "range(1, 21)45\n",
      "the iterator is  0\n",
      "the iterator is  1\n",
      "the iterator is  2\n",
      "the iterator is  3\n",
      "the iterator is  4\n",
      "the iterator is  5\n",
      "the iterator is  6\n",
      "the iterator is  7\n",
      "the iterator is  8\n",
      "the iterator is  9\n",
      "the iterator is  10\n",
      "the iterator is  11\n",
      "the iterator is  12\n",
      "the iterator is  13\n",
      "the iterator is  14\n",
      "the iterator is  15\n",
      "the iterator is  16\n",
      "the iterator is  17\n",
      "the iterator is  18\n",
      "the iterator is  19\n",
      "the iterator is  20\n",
      "the iterator is  21\n",
      "the iterator is  22\n",
      "the iterator is  23\n",
      "the iterator is  24\n",
      "the iterator is  25\n",
      "the iterator is  26\n",
      "the iterator is  27\n",
      "the iterator is  28\n",
      "the iterator is  29\n",
      "the iterator is  30\n",
      "the iterator is  31\n",
      "the iterator is  32\n",
      "the iterator is  33\n",
      "the iterator is  34\n",
      "the iterator is  35\n",
      "the iterator is  36\n",
      "the iterator is  37\n",
      "the iterator is  38\n",
      "the iterator is  39\n",
      "the iterator is  40\n",
      "the iterator is  41\n",
      "the iterator is  42\n",
      "the iterator is  43\n",
      "the iterator is  44\n",
      "1\n",
      "3\n",
      "5\n",
      "7\n"
     ]
    }
   ],
   "source": [
    "n = int(input(range(1, 21)))\n",
    "odd_value = 0\n",
    "output = 0\n",
    "number = 0\n",
    "i = 0\n",
    "\n",
    "for i in range(0, n) :\n",
    "    print(\"the iterator is \", i) \n",
    "    \n",
    "for x in range(1, 9):\n",
    "    if x %2 != 0 :\n",
    "        print(x) \n",
    "        output = i + output\n",
    "#         print(output)\n",
    "        "
   ]
  },
  {
   "cell_type": "code",
   "execution_count": 114,
   "metadata": {},
   "outputs": [
    {
     "name": "stdout",
     "output_type": "stream",
     "text": [
      "1\n",
      "3\n",
      "5\n",
      "7\n",
      "9\n"
     ]
    }
   ],
   "source": [
    "for x in range(10):\n",
    "    # Check if x is even\n",
    "    if x % 2 == 0:\n",
    "        continue\n",
    "    print(x)"
   ]
  },
  {
   "cell_type": "code",
   "execution_count": 132,
   "metadata": {},
   "outputs": [
    {
     "name": "stdout",
     "output_type": "stream",
     "text": [
      "range(1, 21)5\n",
      "1\n",
      "3\n",
      "5\n",
      "7\n",
      "9\n",
      "the iterator is  0\n",
      "output : 9\n",
      "the iterator is  1\n",
      "output : 18\n",
      "the iterator is  2\n",
      "output : 27\n",
      "the iterator is  3\n",
      "output : 36\n",
      "the iterator is  4\n",
      "output : 45\n"
     ]
    }
   ],
   "source": [
    "n = int(input(range(1, 21)))\n",
    "odd_value = 0\n",
    "output = 0\n",
    "number = 0\n",
    "i = 0\n",
    "for odd_value in range(10):\n",
    "    # Check if x is even\n",
    "    if odd_value % 2 == 0:\n",
    "        continue\n",
    "    print(odd_value)\n",
    "\n",
    "for i in range(0, n) :\n",
    "    print(\"the iterator is \", i) \n",
    "    output = odd_value + output\n",
    "    odd_value + 1\n",
    "#     for x in range(1, 9):\n",
    "#     if odd_value %2 != 0 :\n",
    "    print(\"output :\", output)"
   ]
  },
  {
   "cell_type": "code",
   "execution_count": 145,
   "metadata": {},
   "outputs": [
    {
     "name": "stdout",
     "output_type": "stream",
     "text": [
      "range(1, 21)5\n",
      "1\n",
      "the iterator is  0\n",
      "output:  1\n",
      "3\n",
      "the iterator is  0\n",
      "output:  4\n",
      "5\n",
      "the iterator is  0\n",
      "output:  9\n",
      "7\n",
      "the iterator is  0\n",
      "output:  16\n",
      "9\n",
      "the iterator is  0\n",
      "output:  25\n",
      "1\n",
      "the iterator is  1\n",
      "output:  26\n",
      "3\n",
      "the iterator is  1\n",
      "output:  29\n",
      "5\n",
      "the iterator is  1\n",
      "output:  34\n",
      "7\n",
      "the iterator is  1\n",
      "output:  41\n",
      "9\n",
      "the iterator is  1\n",
      "output:  50\n",
      "1\n",
      "the iterator is  2\n",
      "output:  51\n",
      "3\n",
      "the iterator is  2\n",
      "output:  54\n",
      "5\n",
      "the iterator is  2\n",
      "output:  59\n",
      "7\n",
      "the iterator is  2\n",
      "output:  66\n",
      "9\n",
      "the iterator is  2\n",
      "output:  75\n",
      "1\n",
      "the iterator is  3\n",
      "output:  76\n",
      "3\n",
      "the iterator is  3\n",
      "output:  79\n",
      "5\n",
      "the iterator is  3\n",
      "output:  84\n",
      "7\n",
      "the iterator is  3\n",
      "output:  91\n",
      "9\n",
      "the iterator is  3\n",
      "output:  100\n",
      "1\n",
      "the iterator is  4\n",
      "output:  101\n",
      "3\n",
      "the iterator is  4\n",
      "output:  104\n",
      "5\n",
      "the iterator is  4\n",
      "output:  109\n",
      "7\n",
      "the iterator is  4\n",
      "output:  116\n",
      "9\n",
      "the iterator is  4\n",
      "output:  125\n"
     ]
    }
   ],
   "source": [
    "n = int(input(range(1, 21)))\n",
    "odd_value = 0\n",
    "output = 0\n",
    "number = 0\n",
    "i = 0\n",
    "\n",
    "    # Check if x is even\n",
    "    \n",
    "for i in range(0, n) :\n",
    "    for odd_value in range(10):\n",
    "        if odd_value % 2 != 0:\n",
    "            \n",
    "#             continue\n",
    "            print(odd_value)\n",
    "\n",
    "    \n",
    "            print(\"the iterator is \", i) \n",
    "            output = odd_value + output\n",
    "            odd_value + 1\n",
    "    #     for x in range(1, 9):\n",
    "    #     if odd_value %2 != 0 :\n",
    "            print(\"output: \", output)"
   ]
  },
  {
   "cell_type": "code",
   "execution_count": null,
   "metadata": {},
   "outputs": [],
   "source": [
    "for i in range(0, n) :\n",
    "    for odd_value in range(10):\n",
    "        if odd_value % 2 != 0:\n",
    "            \n",
    "#             continue\n",
    "            print(odd_value)\n",
    "\n",
    "    \n",
    "            print(\"the iterator is \", i) \n",
    "            output = odd_value + output\n",
    "            odd_value + 1\n",
    "    #     for x in range(1, 9):\n",
    "    #     if odd_value %2 != 0 :\n",
    "            print(\"output: \", output)"
   ]
  }
 ],
 "metadata": {
  "kernelspec": {
   "display_name": "Python 3",
   "language": "python",
   "name": "python3"
  },
  "language_info": {
   "codemirror_mode": {
    "name": "ipython",
    "version": 3
   },
   "file_extension": ".py",
   "mimetype": "text/x-python",
   "name": "python",
   "nbconvert_exporter": "python",
   "pygments_lexer": "ipython3",
   "version": "3.8.1"
  }
 },
 "nbformat": 4,
 "nbformat_minor": 4
}
