{
 "cells": [
  {
   "cell_type": "code",
   "execution_count": 4,
   "metadata": {},
   "outputs": [
    {
     "name": "stdout",
     "output_type": "stream",
     "text": [
      "Enter a sentenceLast Checkpoint: a minute ago\n",
      "{'a': 2, 'e': 1, 'o': 1, 'i': 1}\n",
      "{'a': 2, 'e': 1, 'o': 1, 'i': 2}\n",
      "{'a': 2, 'e': 2, 'o': 1, 'i': 2, 'u': 1}\n",
      "{'a': 3, 'e': 2, 'o': 1, 'i': 2, 'u': 1}\n",
      "{'a': 3, 'e': 2, 'o': 2, 'i': 2, 'u': 1}\n"
     ]
    }
   ],
   "source": [
    "\n",
    "# Last Checkpoint: a minute ago\n",
    "sentence = input( \"Enter a sentence\" )\n",
    "\n",
    "vowels = [\"a\", \"e\", \"i\", \"o\", \"u\"]\n",
    "vowel_count = {}\n",
    "\n",
    "for i in list(sentence) :\n",
    "    if i in vowels :\n",
    "        if vowel_count.get(i) == None :\n",
    "            vowel_count[i] = 1\n",
    "        else :\n",
    "            vowel_count[i] = vowel_count[i] +1\n",
    "\n",
    "            print(vowel_count)"
   ]
  },
  {
   "cell_type": "code",
   "execution_count": null,
   "metadata": {},
   "outputs": [],
   "source": []
  }
 ],
 "metadata": {
  "kernelspec": {
   "display_name": "Python 3",
   "language": "python",
   "name": "python3"
  },
  "language_info": {
   "codemirror_mode": {
    "name": "ipython",
    "version": 3
   },
   "file_extension": ".py",
   "mimetype": "text/x-python",
   "name": "python",
   "nbconvert_exporter": "python",
   "pygments_lexer": "ipython3",
   "version": "3.8.1"
  }
 },
 "nbformat": 4,
 "nbformat_minor": 4
}
