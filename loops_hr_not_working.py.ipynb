{
 "cells": [
  {
   "cell_type": "code",
   "execution_count": null,
   "metadata": {},
   "outputs": [],
   "source": []
  },
  {
   "cell_type": "raw",
   "metadata": {},
   "source": []
  },
  {
   "cell_type": "code",
   "execution_count": 112,
   "metadata": {},
   "outputs": [
    {
     "name": "stdout",
     "output_type": "stream",
     "text": [
      "range(1, 21)5\n",
      "1\n",
      "4\n"
     ]
    }
   ],
   "source": [
    "n = int(input(range(1, 21)))\n",
    "odd_value = 0\n",
    "output = 0\n",
    "number = 0\n",
    "    \n",
    "\n",
    "for odd_value in range(n) :\n",
    "    if odd_value % 2 != 0 :\n",
    "        output = odd_value + output\n",
    "        print( output )\n",
    "\n",
    "    "
   ]
  },
  {
   "cell_type": "code",
   "execution_count": 30,
   "metadata": {},
   "outputs": [
    {
     "name": "stdout",
     "output_type": "stream",
     "text": [
      "range(1, 21)5\n"
     ]
    }
   ],
   "source": [
    "n = int(input(range(1, 21)))\n",
    "odd_value = 0\n",
    "output = 0\n",
    "counter = 0\n",
    "iterator = 0\n",
    "\n",
    "for iterator in range(n) :\n",
    "    if odd_value % 2 != 0 :\n",
    "        output = odd_value + output\n",
    "        odd_value + 1\n",
    "        print( output )"
   ]
  },
  {
   "cell_type": "code",
   "execution_count": 4,
   "metadata": {},
   "outputs": [
    {
     "name": "stdout",
     "output_type": "stream",
     "text": [
      "range(1, 21)13\n"
     ]
    }
   ],
   "source": [
    "n = int(input(range(1, 21)))\n",
    "odd_value = 0\n",
    "output = 0\n",
    "iterator = 0\n",
    "number = iterator\n",
    "    \n",
    "\n",
    "for iterator in range(n) :\n",
    "    if odd_value % 2 != 0 :\n",
    "        output = odd_value + output\n",
    "        print( output )\n"
   ]
  },
  {
   "cell_type": "code",
   "execution_count": 19,
   "metadata": {},
   "outputs": [
    {
     "name": "stdout",
     "output_type": "stream",
     "text": [
      "range(1, 21)13\n"
     ]
    }
   ],
   "source": [
    "iterator = int(input(range(1, 21)))\n",
    "odd_value = 0\n",
    "number = 0\n",
    "output = 0\n",
    "\n",
    "for output in range(iterator) :\n",
    "    if odd_value % 2 != 0 :\n",
    "        output = odd_value + number\n",
    "        print( output )\n",
    "            "
   ]
  },
  {
   "cell_type": "code",
   "execution_count": 21,
   "metadata": {},
   "outputs": [
    {
     "name": "stdout",
     "output_type": "stream",
     "text": [
      "range(1, 21)13\n"
     ]
    }
   ],
   "source": [
    "iterator = int(input(range(1, 21)))\n",
    "odd_value = 0\n",
    "number = 0\n",
    "output = 0\n",
    "               \n",
    "for number in range (iterator) :\n",
    "    if odd_value %2 != 0 :\n",
    "        odd_value = odd_value +2\n",
    "        output = odd_value + output\n",
    "#         number = odd_value + number\n",
    "        print( output )\n",
    "        "
   ]
  },
  {
   "cell_type": "code",
   "execution_count": 66,
   "metadata": {},
   "outputs": [
    {
     "name": "stdout",
     "output_type": "stream",
     "text": [
      "range(1, 21)3\n"
     ]
    }
   ],
   "source": [
    "n = int(input(range(1, 21)))\n",
    "odd_value = 1\n",
    "count = 0\n",
    "output = 0\n",
    "number = 0\n",
    "i = 1\n",
    "\n",
    "for i in range(n) :\n",
    "    for count in range(0, number) :\n",
    "        if odd_value %2 != 0 :\n",
    "            output = odd_value + i\n",
    "            print(\"output is \", output)\n",
    "            print(\"odd_value is \", odd_value)\n",
    "            print(\" i is  \", i)\n",
    "#         print(count)\n",
    "#         odd_value = 2\n",
    "#         count = 1\n",
    "    \n",
    "# for number in range(iterator) :\n",
    "#     for i in range(count) :\n",
    "#         if odd_value % 2 != 0 :\n",
    "#             output = odd_value + output\n",
    "#             print( output )\n",
    "#             count + 1\n"
   ]
  },
  {
   "cell_type": "code",
   "execution_count": 46,
   "metadata": {},
   "outputs": [
    {
     "name": "stdout",
     "output_type": "stream",
     "text": [
      " \n",
      "1  \n",
      "2 2  \n",
      "3 3 3  \n",
      "4 4 4 4  \n",
      "5 5 5 5 5  \n",
      "6 6 6 6 6 6  \n",
      "7 7 7 7 7 7 7  \n",
      "8 8 8 8 8 8 8 8  \n",
      "9 9 9 9 9 9 9 9 9  \n",
      "10 10 10 10 10 10 10 10 10 10 "
     ]
    }
   ],
   "source": [
    "for number in range(1, 11) :\n",
    "    print(\" \")\n",
    "    for count in range(0, number) :\n",
    "        print(number, end = \" \")"
   ]
  },
  {
   "cell_type": "code",
   "execution_count": 92,
   "metadata": {},
   "outputs": [
    {
     "name": "stdout",
     "output_type": "stream",
     "text": [
      "range(1, 21)5\n",
      "i is  0\n",
      "i is  1\n",
      "i is  2\n",
      "odd_value  1\n",
      "number is  5\n",
      "output is  6\n",
      "i is  3\n",
      "odd_value  1\n",
      "number is  5\n",
      "output is  6\n",
      "i is  4\n",
      "odd_value  1\n",
      "number is  5\n",
      "output is  6\n",
      "odd_value  3\n",
      "number is  5\n",
      "output is  8\n"
     ]
    }
   ],
   "source": [
    "n = int(input(range(1, 21)))\n",
    "odd_value = 1\n",
    "count = 0\n",
    "output = 0\n",
    "number = n\n",
    "i = 1\n",
    "\n",
    "for i in range(n) :\n",
    "    print(\"i is \", i)\n",
    "    for odd_value in range(i) :\n",
    "        if odd_value %2 != 0 :\n",
    "            print(\"odd_value \", odd_value)\n",
    "            print(\"number is \", number)\n",
    "            output = odd_value + number\n",
    "            print(\"output is \", output)\n"
   ]
  },
  {
   "cell_type": "code",
   "execution_count": 94,
   "metadata": {},
   "outputs": [
    {
     "name": "stdout",
     "output_type": "stream",
     "text": [
      "range(1, 21)5\n"
     ]
    }
   ],
   "source": [
    "iterator = int(input(range(1, 21)))\n",
    "odd_value = 0\n",
    "output = 0\n",
    "number = 0\n",
    "i = 0\n",
    "    \n",
    "\n",
    "for i in range(iterator) :\n",
    "    while odd_value % 2 != 0 :\n",
    "        output = odd_value + output\n",
    "        print( output )\n"
   ]
  },
  {
   "cell_type": "code",
   "execution_count": 104,
   "metadata": {},
   "outputs": [
    {
     "name": "stdout",
     "output_type": "stream",
     "text": [
      "range(1, 21)5\n",
      "the iterator is  0\n",
      "the iterator is  1\n",
      "the iterator is  2\n",
      "the iterator is  3\n",
      "the iterator is  4\n"
     ]
    }
   ],
   "source": [
    "n = int(input(range(1, 21)))\n",
    "odd_value = 0\n",
    "output = 0\n",
    "number = 0\n",
    "i = 0\n",
    "\n",
    "for i in range(0, n) :\n",
    "    print(\"the iterator is \", i) "
   ]
  },
  {
   "cell_type": "code",
   "execution_count": 98,
   "metadata": {},
   "outputs": [
    {
     "name": "stdout",
     "output_type": "stream",
     "text": [
      "1\n",
      "3\n",
      "5\n",
      "7\n"
     ]
    }
   ],
   "source": [
    "for x in range(1, 9):\n",
    "    if x %2 != 0 :\n",
    "        print(x) "
   ]
  },
  {
   "cell_type": "code",
   "execution_count": 11,
   "metadata": {},
   "outputs": [
    {
     "name": "stdout",
     "output_type": "stream",
     "text": [
      "range(1, 21)5\n",
      "the iterator is  0\n",
      "the iterator is  1\n",
      "the iterator is  2\n",
      "the iterator is  3\n",
      "the iterator is  4\n",
      "1\n",
      "3\n",
      "5\n",
      "7\n"
     ]
    }
   ],
   "source": [
    "n = int(input(range(1, 21)))\n",
    "odd_value = 0\n",
    "output = 0\n",
    "number = 0\n",
    "i = 0\n",
    "\n",
    "for i in range(0, n) :\n",
    "    print(\"the iterator is \", i) \n",
    "    \n",
    "for x in range(0, 9):\n",
    "    if x %2 != 0 :\n",
    "        print(x) \n",
    "        output = i + output\n",
    "#         print(output)\n",
    "        "
   ]
  },
  {
   "cell_type": "code",
   "execution_count": 114,
   "metadata": {},
   "outputs": [
    {
     "name": "stdout",
     "output_type": "stream",
     "text": [
      "1\n",
      "3\n",
      "5\n",
      "7\n",
      "9\n"
     ]
    }
   ],
   "source": [
    "for x in range(10):\n",
    "    # Check if x is even\n",
    "    if x % 2 == 0:\n",
    "        continue\n",
    "    print(x)"
   ]
  },
  {
   "cell_type": "code",
   "execution_count": 132,
   "metadata": {},
   "outputs": [
    {
     "name": "stdout",
     "output_type": "stream",
     "text": [
      "range(1, 21)5\n",
      "1\n",
      "3\n",
      "5\n",
      "7\n",
      "9\n",
      "the iterator is  0\n",
      "output : 9\n",
      "the iterator is  1\n",
      "output : 18\n",
      "the iterator is  2\n",
      "output : 27\n",
      "the iterator is  3\n",
      "output : 36\n",
      "the iterator is  4\n",
      "output : 45\n"
     ]
    }
   ],
   "source": [
    "n = int(input(range(1, 21)))\n",
    "odd_value = 0\n",
    "output = 0\n",
    "number = 0\n",
    "i = 0\n",
    "for odd_value in range(10):\n",
    "    # Check if x is even\n",
    "    if odd_value % 2 == 0:\n",
    "        continue\n",
    "    print(odd_value)\n",
    "\n",
    "for i in range(0, n) :\n",
    "    print(\"the iterator is \", i) \n",
    "    output = odd_value + output\n",
    "    odd_value + 1\n",
    "#     for x in range(1, 9):\n",
    "#     if odd_value %2 != 0 :\n",
    "    print(\"output :\", output)"
   ]
  },
  {
   "cell_type": "code",
   "execution_count": 145,
   "metadata": {},
   "outputs": [
    {
     "name": "stdout",
     "output_type": "stream",
     "text": [
      "range(1, 21)5\n",
      "1\n",
      "the iterator is  0\n",
      "output:  1\n",
      "3\n",
      "the iterator is  0\n",
      "output:  4\n",
      "5\n",
      "the iterator is  0\n",
      "output:  9\n",
      "7\n",
      "the iterator is  0\n",
      "output:  16\n",
      "9\n",
      "the iterator is  0\n",
      "output:  25\n",
      "1\n",
      "the iterator is  1\n",
      "output:  26\n",
      "3\n",
      "the iterator is  1\n",
      "output:  29\n",
      "5\n",
      "the iterator is  1\n",
      "output:  34\n",
      "7\n",
      "the iterator is  1\n",
      "output:  41\n",
      "9\n",
      "the iterator is  1\n",
      "output:  50\n",
      "1\n",
      "the iterator is  2\n",
      "output:  51\n",
      "3\n",
      "the iterator is  2\n",
      "output:  54\n",
      "5\n",
      "the iterator is  2\n",
      "output:  59\n",
      "7\n",
      "the iterator is  2\n",
      "output:  66\n",
      "9\n",
      "the iterator is  2\n",
      "output:  75\n",
      "1\n",
      "the iterator is  3\n",
      "output:  76\n",
      "3\n",
      "the iterator is  3\n",
      "output:  79\n",
      "5\n",
      "the iterator is  3\n",
      "output:  84\n",
      "7\n",
      "the iterator is  3\n",
      "output:  91\n",
      "9\n",
      "the iterator is  3\n",
      "output:  100\n",
      "1\n",
      "the iterator is  4\n",
      "output:  101\n",
      "3\n",
      "the iterator is  4\n",
      "output:  104\n",
      "5\n",
      "the iterator is  4\n",
      "output:  109\n",
      "7\n",
      "the iterator is  4\n",
      "output:  116\n",
      "9\n",
      "the iterator is  4\n",
      "output:  125\n"
     ]
    }
   ],
   "source": [
    "n = int(input(range(1, 21)))\n",
    "odd_value = 0\n",
    "output = 0\n",
    "number = 0\n",
    "i = 0\n",
    "\n",
    "    # Check if x is even\n",
    "    \n",
    "for i in range(0, n) :\n",
    "    for odd_value in range(10):\n",
    "        if odd_value % 2 != 0:\n",
    "            \n",
    "#             continue\n",
    "            print(odd_value)\n",
    "\n",
    "    \n",
    "            print(\"the iterator is \", i) \n",
    "            output = odd_value + output\n",
    "            odd_value + 1\n",
    "    #     for x in range(1, 9):\n",
    "    #     if odd_value %2 != 0 :\n",
    "            print(\"output: \", output)"
   ]
  },
  {
   "cell_type": "code",
   "execution_count": 8,
   "metadata": {},
   "outputs": [
    {
     "name": "stdout",
     "output_type": "stream",
     "text": [
      "1\n",
      "the iterator is  0\n",
      "output:  267\n",
      "3\n",
      "the iterator is  0\n",
      "output:  270\n",
      "5\n",
      "the iterator is  0\n",
      "output:  275\n",
      "7\n",
      "the iterator is  0\n",
      "output:  282\n",
      "9\n",
      "the iterator is  0\n",
      "output:  291\n",
      "1\n",
      "the iterator is  1\n",
      "output:  292\n",
      "3\n",
      "the iterator is  1\n",
      "output:  295\n",
      "5\n",
      "the iterator is  1\n",
      "output:  300\n",
      "7\n",
      "the iterator is  1\n",
      "output:  307\n",
      "9\n",
      "the iterator is  1\n",
      "output:  316\n",
      "1\n",
      "the iterator is  2\n",
      "output:  317\n",
      "3\n",
      "the iterator is  2\n",
      "output:  320\n",
      "5\n",
      "the iterator is  2\n",
      "output:  325\n",
      "7\n",
      "the iterator is  2\n",
      "output:  332\n",
      "9\n",
      "the iterator is  2\n",
      "output:  341\n",
      "1\n",
      "the iterator is  3\n",
      "output:  342\n",
      "3\n",
      "the iterator is  3\n",
      "output:  345\n",
      "5\n",
      "the iterator is  3\n",
      "output:  350\n",
      "7\n",
      "the iterator is  3\n",
      "output:  357\n",
      "9\n",
      "the iterator is  3\n",
      "output:  366\n",
      "1\n",
      "the iterator is  4\n",
      "output:  367\n",
      "3\n",
      "the iterator is  4\n",
      "output:  370\n",
      "5\n",
      "the iterator is  4\n",
      "output:  375\n",
      "7\n",
      "the iterator is  4\n",
      "output:  382\n",
      "9\n",
      "the iterator is  4\n",
      "output:  391\n"
     ]
    }
   ],
   "source": [
    "for i in range(0, n) :\n",
    "    for odd_value in range(10):\n",
    "        if odd_value % 2 != 0:\n",
    "            print(odd_value)\n",
    "\n",
    "    \n",
    "            print(\"the iterator is \", i) \n",
    "            output = odd_value + output\n",
    "            odd_value + 1\n",
    "    #     for x in range(1, 9):\n",
    "    #     if odd_value %2 != 0 :\n",
    "            print(\"output: \", output)"
   ]
  },
  {
   "cell_type": "code",
   "execution_count": 14,
   "metadata": {},
   "outputs": [
    {
     "name": "stdout",
     "output_type": "stream",
     "text": [
      "range(1, 21)5\n",
      "0\n",
      "1\n",
      "4\n",
      "9\n",
      "16\n",
      "25\n"
     ]
    }
   ],
   "source": [
    "n = int(input(range(1, 21)))\n",
    "odd_value = 1\n",
    "output = 0\n",
    "number = 0\n",
    "i = 0\n",
    "\n",
    "print( output )\n",
    "    \n",
    "for i in range(0, n) :\n",
    "    output = odd_value + output\n",
    "    print( output )\n",
    "    odd_value = odd_value + 2\n",
    "    "
   ]
  },
  {
   "cell_type": "code",
   "execution_count": null,
   "metadata": {},
   "outputs": [],
   "source": []
  }
 ],
 "metadata": {
  "kernelspec": {
   "display_name": "Python 3",
   "language": "python",
   "name": "python3"
  },
  "language_info": {
   "codemirror_mode": {
    "name": "ipython",
    "version": 3
   },
   "file_extension": ".py",
   "mimetype": "text/x-python",
   "name": "python",
   "nbconvert_exporter": "python",
   "pygments_lexer": "ipython3",
   "version": "3.8.1"
  }
 },
 "nbformat": 4,
 "nbformat_minor": 4
}
