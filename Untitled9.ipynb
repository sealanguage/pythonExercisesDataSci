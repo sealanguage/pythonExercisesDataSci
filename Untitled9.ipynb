{
 "cells": [
  {
   "cell_type": "code",
   "execution_count": 6,
   "metadata": {},
   "outputs": [
    {
     "ename": "SyntaxError",
     "evalue": "EOL while scanning string literal (<ipython-input-6-22a5d1d5f59a>, line 16)",
     "output_type": "error",
     "traceback": [
      "\u001b[0;36m  File \u001b[0;32m\"<ipython-input-6-22a5d1d5f59a>\"\u001b[0;36m, line \u001b[0;32m16\u001b[0m\n\u001b[0;31m    if i.endswith(\".) :\u001b[0m\n\u001b[0m                       ^\u001b[0m\n\u001b[0;31mSyntaxError\u001b[0m\u001b[0;31m:\u001b[0m EOL while scanning string literal\n"
     ]
    }
   ],
   "source": [
    "# Pythonist 2  to  pYTHONIST 2\\n\",\n",
    "#   HackerRank.com presents \\ Pythonist 2 \\\n",
    "#   HackerRank.com presents \"Pythonist 2\".\n",
    "\n",
    "s = input( \"input a string: \")\n",
    "\n",
    "for i in s :\n",
    "        if i.islower() :\n",
    "            print(i.upper(), end = '')\n",
    "        if i.isupper() :\n",
    "            print(i.lower(), end = '')\n",
    "        if i.isnumeric() :\n",
    "            print(i, end = '')\n",
    "        if i.isspace() :\n",
    "            print(i, end = '')\n",
    "        if i.endswith(\".) :\n",
    "            print(i, end = '')"
   ]
  },
  {
   "cell_type": "code",
   "execution_count": null,
   "metadata": {},
   "outputs": [],
   "source": []
  }
 ],
 "metadata": {
  "kernelspec": {
   "display_name": "Python 3",
   "language": "python",
   "name": "python3"
  },
  "language_info": {
   "codemirror_mode": {
    "name": "ipython",
    "version": 3
   },
   "file_extension": ".py",
   "mimetype": "text/x-python",
   "name": "python",
   "nbconvert_exporter": "python",
   "pygments_lexer": "ipython3",
   "version": "3.8.1"
  }
 },
 "nbformat": 4,
 "nbformat_minor": 4
}
