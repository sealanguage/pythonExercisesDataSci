{
 "cells": [
  {
   "cell_type": "code",
   "execution_count": 6,
   "metadata": {},
   "outputs": [
    {
     "ename": "SyntaxError",
     "evalue": "EOL while scanning string literal (<ipython-input-6-22a5d1d5f59a>, line 16)",
     "output_type": "error",
     "traceback": [
      "\u001b[0;36m  File \u001b[0;32m\"<ipython-input-6-22a5d1d5f59a>\"\u001b[0;36m, line \u001b[0;32m16\u001b[0m\n\u001b[0;31m    if i.endswith(\".) :\u001b[0m\n\u001b[0m                       ^\u001b[0m\n\u001b[0;31mSyntaxError\u001b[0m\u001b[0;31m:\u001b[0m EOL while scanning string literal\n"
     ]
    }
   ],
   "source": [
    "# Pythonist 2  to  pYTHONIST 2\\n\",\n",
    "#   HackerRank.com presents \\ Pythonist 2 \\\n",
    "#   HackerRank.com presents \"Pythonist 2\".\n",
    "\n",
    "s = input( \"input a string: \")\n",
    "\n",
    "for i in s :\n",
    "        if i.islower() :\n",
    "            print(i.upper(), end = '')\n",
    "        if i.isupper() :\n",
    "            print(i.lower(), end = '')\n",
    "        if i.isnumeric() :\n",
    "            print(i, end = '')\n",
    "        if i.isspace() :\n",
    "            print(i, end = '')\n",
    "        if i.endswith(\".) :\n",
    "            print(i, end = '')"
   ]
  },
  {
   "cell_type": "code",
   "execution_count": 12,
   "metadata": {},
   "outputs": [],
   "source": [
    "def calculate_interest(balance, interest, days) :\n",
    "   interest_amount = balance * (interest / 100) * (days/365)\n",
    "   return interest_amount\n",
    "\n",
    "interest_amount = balance * (interest / 100) * (days/365)\n",
    "    return interest_amount"
   ]
  },
  {
   "cell_type": "code",
   "execution_count": 13,
   "metadata": {},
   "outputs": [
    {
     "ename": "NameError",
     "evalue": "name 'calculate_interest_curr' is not defined",
     "output_type": "error",
     "traceback": [
      "\u001b[0;31m---------------------------------------------------------------------------\u001b[0m",
      "\u001b[0;31mNameError\u001b[0m                                 Traceback (most recent call last)",
      "\u001b[0;32m<ipython-input-13-347ae3450069>\u001b[0m in \u001b[0;36m<module>\u001b[0;34m\u001b[0m\n\u001b[0;32m----> 1\u001b[0;31m \u001b[0mcalculate_interest_curr\u001b[0m\u001b[0;34m(\u001b[0m\u001b[0;36m2000\u001b[0m\u001b[0;34m,\u001b[0m \u001b[0;36m5\u001b[0m\u001b[0;34m,\u001b[0m \u001b[0;36m200\u001b[0m\u001b[0;34m)\u001b[0m\u001b[0;34m\u001b[0m\u001b[0;34m\u001b[0m\u001b[0m\n\u001b[0m",
      "\u001b[0;31mNameError\u001b[0m: name 'calculate_interest_curr' is not defined"
     ]
    }
   ],
   "source": [
    "calculate_interest_curr(2000, 5, 200)"
   ]
  },
  {
   "cell_type": "code",
   "execution_count": 17,
   "metadata": {},
   "outputs": [],
   "source": [
    "def calculate_interest_curr(balance, interest, days) :\n",
    "    \"\"\"\n",
    "    1. Balance: Amount on which balance needs to be calculated\n",
    "    2. Interest: annual interest in percentage\n",
    "    3. Days: numver of days since the beginning of the year\n",
    "    \"\"\"\n",
    "    interest_amount = balance * (interest / 100) * (days/365)\n",
    "    return interest_amount"
   ]
  },
  {
   "cell_type": "code",
   "execution_count": 16,
   "metadata": {},
   "outputs": [
    {
     "data": {
      "text/plain": [
       "54.794520547945204"
      ]
     },
     "execution_count": 16,
     "metadata": {},
     "output_type": "execute_result"
    }
   ],
   "source": [
    "calculate_interest_curr(2000, 5, 200)"
   ]
  },
  {
   "cell_type": "code",
   "execution_count": 19,
   "metadata": {},
   "outputs": [
    {
     "name": "stdout",
     "output_type": "stream",
     "text": [
      "Enter your choice -> \n",
      "Exit program 6 -> \n",
      " -> 6\n"
     ]
    }
   ],
   "source": [
    "#  this code works to exit on choice of 6\\n\",\n",
    "grades = []\n",
    "\n",
    "while True :\n",
    "    print( \"Enter your choice -> \")\n",
    "    print( \"Exit program 6 -> \")\n",
    "    \n",
    "    choice = input(\" -> \")\n",
    "    \n",
    "    if int(choice) == 6 :\n",
    "        break"
   ]
  },
  {
   "cell_type": "code",
   "execution_count": 21,
   "metadata": {},
   "outputs": [
    {
     "name": "stdout",
     "output_type": "stream",
     "text": [
      "input a string: HackerRank.com presents \"Pythonist 2\".\n",
      "hACKERrANK.COM PRESENTS \"pYTHONIST 2\"."
     ]
    }
   ],
   "source": [
    "#   Pythonist 2  to  pYTHONIST 2\n",
    "#   HackerRank.com presents \"Pythonist 2\".\n",
    "\n",
    "\n",
    "str = input( \"input a string: \")\n",
    "\n",
    "for i in str :\n",
    "   print(i.swapcase(), end = '')"
   ]
  },
  {
   "cell_type": "code",
   "execution_count": 24,
   "metadata": {},
   "outputs": [
    {
     "name": "stdout",
     "output_type": "stream",
     "text": [
      " enter grades 4.2\n",
      " enter grades 2.1\n",
      " enter grades 3.3\n",
      " enter grades 3.4\n",
      " enter grades 1.1\n",
      " enter grades 3.1\n",
      " enter grades e\n",
      "grades:  [4.2, 2.1, 3.3, 3.4, 1.1, 3.1]\n",
      "Average class grade is:  2.866666666666667\n"
     ]
    }
   ],
   "source": [
    "#  print(\"Enter grades to calculate mean/average grades. tyep e to exit\")\n",
    "\n",
    "# create an empty list\n",
    "grades = []\n",
    "sum = 0\n",
    "\n",
    "while( True ) :\n",
    "   grade = input(\" enter grades \")\n",
    "   if grade == \"e\" :\n",
    "      break\n",
    "   else :\n",
    "      grade = float(grade)\n",
    "      grades.append(grade)\n",
    "print(\"grades: \", grades)\n",
    "\n",
    "\n",
    "for grade in grades :\n",
    "   sum = sum + grade\n",
    "average = sum /len(grades)\n",
    "print(\"Average class grade is: \", average)"
   ]
  },
  {
   "cell_type": "code",
   "execution_count": 28,
   "metadata": {},
   "outputs": [
    {
     "name": "stdout",
     "output_type": "stream",
     "text": [
      " Enter your choice \n",
      " Enter grades -> 1 \n",
      " Delete grades -> 2 \n",
      " \n",
      " \n",
      " Exit program -> 6 \n",
      " -> 1\n"
     ]
    },
    {
     "ename": "TypeError",
     "evalue": "object of type 'bool' has no len()",
     "output_type": "error",
     "traceback": [
      "\u001b[0;31m---------------------------------------------------------------------------\u001b[0m",
      "\u001b[0;31mTypeError\u001b[0m                                 Traceback (most recent call last)",
      "\u001b[0;32m<ipython-input-28-6401be0b79d8>\u001b[0m in \u001b[0;36m<module>\u001b[0;34m\u001b[0m\n\u001b[1;32m     11\u001b[0m    \u001b[0mchoice\u001b[0m \u001b[0;34m=\u001b[0m \u001b[0minput\u001b[0m\u001b[0;34m(\u001b[0m\u001b[0;34m\" -> \"\u001b[0m\u001b[0;34m)\u001b[0m\u001b[0;34m\u001b[0m\u001b[0;34m\u001b[0m\u001b[0m\n\u001b[1;32m     12\u001b[0m \u001b[0;34m\u001b[0m\u001b[0m\n\u001b[0;32m---> 13\u001b[0;31m    \u001b[0;32mif\u001b[0m \u001b[0mlen\u001b[0m\u001b[0;34m(\u001b[0m\u001b[0mchoice\u001b[0m \u001b[0;34m==\u001b[0m \u001b[0;36m1\u001b[0m\u001b[0;34m)\u001b[0m \u001b[0;34m:\u001b[0m\u001b[0;34m\u001b[0m\u001b[0;34m\u001b[0m\u001b[0m\n\u001b[0m\u001b[1;32m     14\u001b[0m       \u001b[0mprint\u001b[0m\u001b[0;34m(\u001b[0m\u001b[0;34m\"enter a valid choice number 1 - 6\"\u001b[0m\u001b[0;34m)\u001b[0m\u001b[0;34m\u001b[0m\u001b[0;34m\u001b[0m\u001b[0m\n\u001b[1;32m     15\u001b[0m       \u001b[0;32mcontinue\u001b[0m\u001b[0;34m\u001b[0m\u001b[0;34m\u001b[0m\u001b[0m\n",
      "\u001b[0;31mTypeError\u001b[0m: object of type 'bool' has no len()"
     ]
    }
   ],
   "source": [
    "grades = []    #initialize an empty list\n",
    "\n",
    "while True :    #this program runs in an infinite loop\n",
    "   print(\" Enter your choice \")\n",
    "   print(\" Enter grades -> 1 \")\n",
    "   print(\" Delete grades -> 2 \")\n",
    "   print(\" \")\n",
    "   print(\" \")\n",
    "   print(\" Exit program -> 6 \")\n",
    "\n",
    "   choice = input(\" -> \")\n",
    "\n",
    "   if len(choice == 1) :\n",
    "      print(\"enter a valid choice number 1 - 6\")\n",
    "      continue\n",
    "\n",
    "   if int(choice) == 6 :\n",
    "      break\n"
   ]
  },
  {
   "cell_type": "code",
   "execution_count": 29,
   "metadata": {},
   "outputs": [
    {
     "name": "stdout",
     "output_type": "stream",
     "text": [
      "enter a sentence: Traceback (most recent call last)\n"
     ]
    }
   ],
   "source": [
    "\n",
    "count = 0\n",
    "\n",
    "sentence = input(\"enter a sentence: \")\n",
    "sentence = list(sentence)\n",
    "vowels = [\"a\", \"e\", \"i\", \"o\", \"u\"]\n",
    "\n",
    "for letter in list(sentence) :\n",
    "   if letter in vowels :\n",
    "      count = count + 1"
   ]
  },
  {
   "cell_type": "code",
   "execution_count": 30,
   "metadata": {},
   "outputs": [
    {
     "data": {
      "text/plain": [
       "8"
      ]
     },
     "execution_count": 30,
     "metadata": {},
     "output_type": "execute_result"
    }
   ],
   "source": [
    "count"
   ]
  },
  {
   "cell_type": "code",
   "execution_count": 43,
   "metadata": {},
   "outputs": [
    {
     "name": "stdout",
     "output_type": "stream",
     "text": [
      "input a string: HackerRank.com presents \"Pythonist 2\".\n",
      "HackerRank.com presents \"Pythonist 2\".\n"
     ]
    }
   ],
   "source": [
    "#   Pythonist 2  to  pYTHONIST 2\n",
    "#   HackerRank.com presents \"Pythonist 2\".\n",
    "\n",
    "s = input( \"input a string: \")\n",
    "news = 0\n",
    "for i in s :\n",
    "    news == i.swapcase()\n",
    "print(s)"
   ]
  },
  {
   "cell_type": "code",
   "execution_count": 46,
   "metadata": {},
   "outputs": [
    {
     "name": "stdout",
     "output_type": "stream",
     "text": [
      "input a string: HackerRank.com presents \"Pythonist 2\".\n",
      "hACKERrANK.COM PRESENTS \"pYTHONIST 2\"."
     ]
    }
   ],
   "source": [
    "\n",
    "#   Pythonist 2  to  pYTHONIST 2\n",
    "#   HackerRank.com presents \"Pythonist 2\".\n",
    "\n",
    "\n",
    "s = input( \"input a string: \")\n",
    "\n",
    "for i in s :\n",
    "    print(i.swapcase(), end = '')\n",
    "    \n",
    "        "
   ]
  },
  {
   "cell_type": "code",
   "execution_count": null,
   "metadata": {},
   "outputs": [],
   "source": []
  }
 ],
 "metadata": {
  "kernelspec": {
   "display_name": "Python 3",
   "language": "python",
   "name": "python3"
  },
  "language_info": {
   "codemirror_mode": {
    "name": "ipython",
    "version": 3
   },
   "file_extension": ".py",
   "mimetype": "text/x-python",
   "name": "python",
   "nbconvert_exporter": "python",
   "pygments_lexer": "ipython3",
   "version": "3.8.1"
  }
 },
 "nbformat": 4,
 "nbformat_minor": 4
}
