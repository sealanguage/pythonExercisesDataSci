{
 "cells": [
  {
   "cell_type": "code",
   "execution_count": 6,
   "metadata": {},
   "outputs": [
    {
     "data": {
      "text/plain": [
       "'John'"
      ]
     },
     "execution_count": 6,
     "metadata": {},
     "output_type": "execute_result"
    }
   ],
   "source": [
    "person_1 = (\"John\", 25)\n",
    "type(person_1)\n",
    "person_1[-2]"
   ]
  },
  {
   "cell_type": "code",
   "execution_count": 10,
   "metadata": {},
   "outputs": [
    {
     "data": {
      "text/plain": [
       "([1, 13, 3], [4, 5, 6])"
      ]
     },
     "execution_count": 10,
     "metadata": {},
     "output_type": "execute_result"
    }
   ],
   "source": [
    "number = ([1, 2, 3], [4, 5, 6])\n",
    "number[0][1] = 13\n",
    "number"
   ]
  },
  {
   "cell_type": "code",
   "execution_count": 13,
   "metadata": {},
   "outputs": [
    {
     "data": {
      "text/plain": [
       "2"
      ]
     },
     "execution_count": 13,
     "metadata": {},
     "output_type": "execute_result"
    }
   ],
   "source": [
    "ages =(4, 5, 7, 3, 4, 7, 8, 5, 8, 5)\n",
    "ages.index(7)"
   ]
  },
  {
   "cell_type": "code",
   "execution_count": 12,
   "metadata": {},
   "outputs": [
    {
     "name": "stdout",
     "output_type": "stream",
     "text": [
      "False False\n"
     ]
    }
   ],
   "source": [
    "my_dict = {0:'True', False:'1'}\n",
    "result1 = any(my_dict)\n",
    "result2 = all(my_dict)\n",
    "\n",
    "print(result1, result2)"
   ]
  },
  {
   "cell_type": "code",
   "execution_count": 15,
   "metadata": {},
   "outputs": [
    {
     "name": "stdout",
     "output_type": "stream",
     "text": [
      "5\n",
      "7\n",
      "7\n",
      "8\n",
      "5\n",
      "8\n",
      "5\n"
     ]
    }
   ],
   "source": [
    "ages =(4, 5, 7, 3, 4, 7, 8, 5, 8, 5)\n",
    "\n",
    "def primary_schools ( age ) :\n",
    "    if 11 >= age >= 5 :\n",
    "        return True\n",
    "    else :\n",
    "        return False\n",
    "primary_school_age = filter(primary_schools, ages)\n",
    "\n",
    "for age in primary_school_age :\n",
    "    print(age)"
   ]
  },
  {
   "cell_type": "code",
   "execution_count": 20,
   "metadata": {},
   "outputs": [
    {
     "data": {
      "text/plain": [
       "set()"
      ]
     },
     "execution_count": 20,
     "metadata": {},
     "output_type": "execute_result"
    }
   ],
   "source": [
    "weather = {\"rainy\", \"rainy\", \"sunny\", \"snowy\", \"sunny\", \"rainy\", \"snowy\"}\n",
    "weather.add(\"stormy\")\n",
    "weather\n",
    "weather.pop()\n",
    "weather\n",
    "weather.remove(\"sunny\")\n",
    "weather\n",
    "weather.clear()\n",
    "weather"
   ]
  },
  {
   "cell_type": "code",
   "execution_count": 26,
   "metadata": {},
   "outputs": [
    {
     "data": {
      "text/plain": [
       "{5, 7, 9}"
      ]
     },
     "execution_count": 26,
     "metadata": {},
     "output_type": "execute_result"
    }
   ],
   "source": [
    "set1 = {1, 3, 5, 7, 9}\n",
    "set2 = {5, 7, 9, 11, 13}\n",
    "\n",
    "num = set1 & set2\n",
    "num"
   ]
  },
  {
   "cell_type": "code",
   "execution_count": null,
   "metadata": {},
   "outputs": [],
   "source": [
    "odd_num1 = {1, 3, 5, 7, 9}\n",
    "odd_num2 = {7, 9, 11, 13}\n",
    "\n",
    "odd = odd_num1 | odd_num2\n",
    "odd"
   ]
  }
 ],
 "metadata": {
  "kernelspec": {
   "display_name": "Python 3",
   "language": "python",
   "name": "python3"
  },
  "language_info": {
   "codemirror_mode": {
    "name": "ipython",
    "version": 3
   },
   "file_extension": ".py",
   "mimetype": "text/x-python",
   "name": "python",
   "nbconvert_exporter": "python",
   "pygments_lexer": "ipython3",
   "version": "3.8.1"
  }
 },
 "nbformat": 4,
 "nbformat_minor": 4
}
