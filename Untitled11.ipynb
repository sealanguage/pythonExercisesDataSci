{
 "cells": [
  {
   "cell_type": "code",
   "execution_count": 23,
   "metadata": {},
   "outputs": [
    {
     "name": "stdout",
     "output_type": "stream",
     "text": [
      "Input a string: this is a string\n",
      "LINE  ['this', 'is', 'a', 'string']\n",
      "this-is-a-string\n"
     ]
    }
   ],
   "source": [
    "#  this is a string   \n",
    "\n",
    "s = input(\"Input a string: \")\n",
    "\n",
    "line = s.split(\" \")\n",
    "s = \"-\".join(line)\n",
    "\n",
    "print(\"LINE \", line)\n",
    "print(s)"
   ]
  },
  {
   "cell_type": "code",
   "execution_count": 40,
   "metadata": {},
   "outputs": [
    {
     "name": "stdout",
     "output_type": "stream",
     "text": [
      "this is a string\n",
      "this-is-a-string\n",
      "-\n"
     ]
    }
   ],
   "source": [
    "def split_and_join(line):\n",
    "    # write your code here\n",
    "    s = \" \"\n",
    "    line = s.split(\" \")\n",
    "    s = \"-\".join(line)\n",
    "    return s\n",
    "\n",
    "if __name__ == '__main__':\n",
    "    line = input()\n",
    "    result = split_and_join(line)\n",
    "    print(s)\n",
    "    print(result)"
   ]
  },
  {
   "cell_type": "code",
   "execution_count": 70,
   "metadata": {},
   "outputs": [
    {
     "name": "stdout",
     "output_type": "stream",
     "text": [
      "Enter your choices - \n",
      "Enter grades -> 1\n",
      "List grades -> 2\n",
      "Delete a grade -> 3\n",
      "Update a grade -> 4\n",
      "Clear grades -> 5\n",
      "Calculate grades -> 6\n",
      "Exit program -> 7\n",
      "->6\n",
      "Average class grade is:  2.75\n",
      "Enter your choices - \n",
      "Enter grades -> 1\n",
      "List grades -> 2\n",
      "Delete a grade -> 3\n",
      "Update a grade -> 4\n",
      "Clear grades -> 5\n",
      "Calculate grades -> 6\n",
      "Exit program -> 7\n",
      "->7\n"
     ]
    }
   ],
   "source": [
    "grades = []\n",
    "sum = 0.0\n",
    "\n",
    "while True :\n",
    "    print( \"Enter your choices - \" )\n",
    "    print( \"Enter grades -> 1\" )\n",
    "    print( \"List grades -> 2\" )\n",
    "    print( \"Delete a grade -> 3\" )\n",
    "    print( \"Update a grade -> 4\" )\n",
    "    print( \"Clear grades -> 5\" )\n",
    "    print( \"Calculate grades -> 6\" )\n",
    "    \n",
    "    print( \"Exit program -> 7\" )\n",
    "    \n",
    "    choice = int(input( \"->\" ))\n",
    "    \n",
    " \n",
    "#   can't get this part to work\n",
    "    if not (choice) <= 7 and choice.isnumeric() :\n",
    "        print( \"Enter a valid choice number 1 - 6\" )\n",
    "        continue\n",
    "    \n",
    "    if int(choice) == 7 :\n",
    "        break\n",
    "    \n",
    "    if int(choice) == 1 :\n",
    "        print( \"enter a grades. 'e' to exit.\" )\n",
    "        \n",
    "        while ( True ) :\n",
    "            grade = input( \"->\" )\n",
    "            if grade == \"e\" :\n",
    "                break\n",
    "            else :\n",
    "                grade = float(grade)\n",
    "                grades.append(grade)\n",
    "\n",
    "            continue\n",
    "        \n",
    "    if int(choice) == 2 :\n",
    "        for grade in grades :\n",
    "            print( grade )\n",
    "            \n",
    "    if int(choice) == 3 :\n",
    "        for grade in grades :\n",
    "            print(grades)\n",
    "        index = int(input( \"Enter the index to delete\" ))\n",
    "        if index < len(grades) - 1 and index >= 0 :\n",
    "            grades.pop(index)\n",
    "        else :\n",
    "            print( \"Invalid index. Try again.\" )\n",
    "            \n",
    "    if int(choice) == 4 :\n",
    "        for grade in grades :\n",
    "            print(grades)\n",
    "        index = int(input( \"enter grade to update\" ))\n",
    "        if index < len(grades) - 1 and index >= 0 :\n",
    "            new_grade = float(input( \"->\" ))\n",
    "            grades[index] = new_grade\n",
    "        else :\n",
    "            print( \"Invalid index. Try again\" )\n",
    "            \n",
    "    if int(choice) == 5 :\n",
    "        grades.clear()\n",
    "        \n",
    "    if int(choice) == 6 :\n",
    "        for grade in grades :\n",
    "            sum = sum + grade\n",
    "            average = sum /len(grades)\n",
    "        print(\"Average class grade is: \", average)\n",
    "            \n",
    "            \n",
    "#     if(len(choice == 1)) :\n",
    "#         print( \"Enter 'e' to exit\" )\n"
   ]
  },
  {
   "cell_type": "markdown",
   "metadata": {},
   "source": [
    "### "
   ]
  },
  {
   "cell_type": "code",
   "execution_count": 14,
   "metadata": {},
   "outputs": [
    {
     "name": "stdout",
     "output_type": "stream",
     "text": [
      "Enter your choice -> \n",
      "Exit program 6 -> \n",
      " -> 6\n"
     ]
    }
   ],
   "source": [
    "grades = []\n",
    "\n",
    "while True :\n",
    "    print( \"Enter your choice -> \")\n",
    "    print( \"Exit program 6 -> \")\n",
    "    \n",
    "    choice = input(\" -> \")\n",
    "    \n",
    "    if int(choice) == 6 :\n",
    "        break"
   ]
  },
  {
   "cell_type": "code",
   "execution_count": null,
   "metadata": {},
   "outputs": [],
   "source": []
  },
  {
   "cell_type": "code",
   "execution_count": null,
   "metadata": {},
   "outputs": [],
   "source": []
  },
  {
   "cell_type": "code",
   "execution_count": null,
   "metadata": {},
   "outputs": [],
   "source": []
  }
 ],
 "metadata": {
  "kernelspec": {
   "display_name": "Python 3",
   "language": "python",
   "name": "python3"
  }
 },
 "nbformat": 4,
 "nbformat_minor": 4
}
