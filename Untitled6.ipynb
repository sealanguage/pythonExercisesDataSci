{
 "cells": [
  {
   "cell_type": "code",
   "execution_count": 6,
   "metadata": {},
   "outputs": [
    {
     "name": "stdout",
     "output_type": "stream",
     "text": [
      "get a number a: 9\n",
      "get a number b: 29\n",
      "get a number c: 7\n",
      "get a number d: 27\n",
      "4710194409608608369201743232\n"
     ]
    }
   ],
   "source": [
    "# Task\n",
    "# Read four numbers a, b, c, and d, and print a b  + c d  the result of .\n",
    "    \n",
    "    \n",
    "a = int(input(\"get a number a: \"))\n",
    "b = int(input(\"get a number b: \"))\n",
    "c = int(input(\"get a number c: \"))\n",
    "d = int(input(\"get a number d: \"))\n",
    "\n",
    "solution = (a ** b) +(c ** d)\n",
    "print(solution)"
   ]
  },
  {
   "cell_type": "code",
   "execution_count": null,
   "metadata": {},
   "outputs": [],
   "source": [
    "# You are given a positive integer . Print a numerical triangle of height  like the one below:"
   ]
  }
 ],
 "metadata": {
  "kernelspec": {
   "display_name": "Python 3",
   "language": "python",
   "name": "python3"
  },
  "language_info": {
   "codemirror_mode": {
    "name": "ipython",
    "version": 3
   },
   "file_extension": ".py",
   "mimetype": "text/x-python",
   "name": "python",
   "nbconvert_exporter": "python",
   "pygments_lexer": "ipython3",
   "version": "3.8.1"
  }
 },
 "nbformat": 4,
 "nbformat_minor": 4
}
